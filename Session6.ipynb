{
 "cells": [
  {
   "cell_type": "code",
   "execution_count": null,
   "id": "ea014650",
   "metadata": {},
   "outputs": [],
   "source": [
    "import numpy as np\n",
    "import matplotlib.pyplot as plt"
   ]
  },
  {
   "cell_type": "markdown",
   "id": "99025e44",
   "metadata": {},
   "source": [
    "Function that returns the sin of a given number:"
   ]
  },
  {
   "cell_type": "code",
   "execution_count": null,
   "id": "d8d24e01",
   "metadata": {},
   "outputs": [],
   "source": [
    "def get_sin(x):\n",
    "    return np.sin(x)"
   ]
  },
  {
   "cell_type": "markdown",
   "id": "18a7d286",
   "metadata": {},
   "source": [
    "Function that returns the cos of a given number:"
   ]
  },
  {
   "cell_type": "code",
   "execution_count": null,
   "id": "26210b77",
   "metadata": {
    "scrolled": true
   },
   "outputs": [],
   "source": [
    "def get_cos(x):\n",
    "    return np.cos(x)"
   ]
  },
  {
   "cell_type": "code",
   "execution_count": null,
   "id": "a44a55f7",
   "metadata": {},
   "outputs": [],
   "source": [
    "x = np.arange(0, 2*np.pi, np.pi/1000)\n",
    "sinx = get_sin(x)\n",
    "cosx = get_cos(x)"
   ]
  },
  {
   "cell_type": "code",
   "execution_count": null,
   "id": "d07ccca6",
   "metadata": {},
   "outputs": [],
   "source": [
    "print(f\"  x               sinx            cosx\")\n",
    "for i in range(10):\n",
    "    print(f\"{x[i]:10f}\\t{sinx[i]:10f}\\t{cosx[i]:10f}\")"
   ]
  }
 ],
 "metadata": {
  "kernelspec": {
   "display_name": "Python 3",
   "language": "python",
   "name": "python3"
  },
  "language_info": {
   "codemirror_mode": {
    "name": "ipython",
    "version": 3
   },
   "file_extension": ".py",
   "mimetype": "text/x-python",
   "name": "python",
   "nbconvert_exporter": "python",
   "pygments_lexer": "ipython3",
   "version": "3.6.3"
  }
 },
 "nbformat": 4,
 "nbformat_minor": 5
}
