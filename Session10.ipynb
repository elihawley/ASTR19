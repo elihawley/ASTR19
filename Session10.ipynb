{
 "cells": [
  {
   "cell_type": "code",
   "execution_count": null,
   "id": "2a467364",
   "metadata": {},
   "outputs": [],
   "source": [
    "import numpy as np\n",
    "import matplotlib.pyplot as plt"
   ]
  },
  {
   "cell_type": "code",
   "execution_count": null,
   "id": "b177b11a",
   "metadata": {},
   "outputs": [],
   "source": [
    "s = np.random.default_rng().standard_cauchy(1000)\n",
    "s = s[(s >= -1) & (s <= 1)]\n",
    "plt.hist(s,bins=100)\n",
    "plt.xlabel('value')\n",
    "plt.ylabel('num_value')\n",
    "plt.savefig('standard_cauchy.pdf', bbox_inches=\"tight\", facecolor=\"white\")\n",
    "plt.show()"
   ]
  }
 ],
 "metadata": {
  "kernelspec": {
   "display_name": "Python 3",
   "language": "python",
   "name": "python3"
  },
  "language_info": {
   "codemirror_mode": {
    "name": "ipython",
    "version": 3
   },
   "file_extension": ".py",
   "mimetype": "text/x-python",
   "name": "python",
   "nbconvert_exporter": "python",
   "pygments_lexer": "ipython3",
   "version": "3.6.3"
  }
 },
 "nbformat": 4,
 "nbformat_minor": 5
}
