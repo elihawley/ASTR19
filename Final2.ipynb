{
 "cells": [
  {
   "cell_type": "code",
   "execution_count": null,
   "id": "1007eae5",
   "metadata": {},
   "outputs": [],
   "source": [
    "# imports and setup\n",
    "import numpy as np\n",
    "import sep\n",
    "from astropy.io import fits\n",
    "import matplotlib.pyplot as plt\n",
    "from matplotlib import rcParams\n",
    "from matplotlib.patches import Ellipse\n",
    "from PIL import Image\n",
    "\n",
    "%matplotlib inline\n",
    "\n",
    "rcParams['figure.figsize'] = [10., 8.]"
   ]
  },
  {
   "cell_type": "code",
   "execution_count": null,
   "id": "f1010cba",
   "metadata": {},
   "outputs": [],
   "source": [
    "def rescale_image(data):\n",
    "    pdata_tmp = data.copy()\n",
    "    m = np.nanmean(pdata_tmp)\n",
    "    vplmin = m/2.\n",
    "    vpmin = np.log10(vplmin)\n",
    "    vpmax = np.log10(m * 100.)\n",
    "    pdata_tmp[pdata_tmp<vplmin] = vplmin\n",
    "    pdata_tmp = np.log10(pdata_tmp)\n",
    "    return pdata_tmp,vpmin,vpmax"
   ]
  },
  {
   "cell_type": "code",
   "execution_count": null,
   "id": "0d7de1fc",
   "metadata": {},
   "outputs": [],
   "source": [
    "# reading image into array\n",
    "hdu = fits.open(\"hlsp_hudf12_hst_wfc3ir_udfmain_f105w_v1.0_drz.fits\")\n",
    "data = hdu[0].data"
   ]
  },
  {
   "cell_type": "code",
   "execution_count": null,
   "id": "0c47e1f2",
   "metadata": {},
   "outputs": [],
   "source": [
    "# showing the image and saving it\n",
    "m, s = np.mean(data), np.std(data)\n",
    "plt.imshow(data, interpolation='nearest', cmap='gray', vmin=m-s, vmax=m+s, origin='lower')\n",
    "plt.colorbar();\n",
    "plt.savefig('original.png', bbox_inches = \"tight\", dpi = 600)"
   ]
  },
  {
   "cell_type": "code",
   "execution_count": null,
   "id": "3aaa8b02",
   "metadata": {},
   "outputs": [],
   "source": [
    "# measuring the image background\n",
    "data = data.byteswap().newbyteorder()\n",
    "bkg = sep.Background(data)"
   ]
  },
  {
   "cell_type": "code",
   "execution_count": null,
   "id": "fbb308a6",
   "metadata": {},
   "outputs": [],
   "source": [
    "# printing the \"global\" mean and noise of the image background:\n",
    "print(bkg.globalback)\n",
    "print(bkg.globalrms)"
   ]
  },
  {
   "cell_type": "code",
   "execution_count": null,
   "id": "6daf1aa1",
   "metadata": {},
   "outputs": [],
   "source": [
    "# evaluating the background as 2-d array\n",
    "bkg_image = bkg.back()"
   ]
  },
  {
   "cell_type": "code",
   "execution_count": null,
   "id": "51ba851f",
   "metadata": {},
   "outputs": [],
   "source": [
    "# showing the background and saving it\n",
    "plt.imshow(bkg_image, interpolation='nearest', cmap='gray', origin='lower')\n",
    "plt.colorbar();\n",
    "plt.savefig('background.png', bbox_inches = \"tight\", dpi = 600)"
   ]
  },
  {
   "cell_type": "code",
   "execution_count": null,
   "id": "861baca5",
   "metadata": {},
   "outputs": [],
   "source": [
    "# evaluating the background noise as 2-d array\n",
    "bkg_rms = bkg.rms()"
   ]
  },
  {
   "cell_type": "code",
   "execution_count": null,
   "id": "ac72d0ce",
   "metadata": {},
   "outputs": [],
   "source": [
    "# showing the background noise and saving it\n",
    "plt.imshow(bkg_rms, interpolation='nearest', cmap='gray', origin='lower')\n",
    "plt.colorbar();\n",
    "plt.savefig('backgroundnoise.png', bbox_inches = \"tight\", dpi = 600)"
   ]
  },
  {
   "cell_type": "code",
   "execution_count": null,
   "id": "b4542025",
   "metadata": {},
   "outputs": [],
   "source": [
    "# subtracting the background from the data\n",
    "data_sub = data - bkg"
   ]
  },
  {
   "cell_type": "code",
   "execution_count": null,
   "id": "99efb86e",
   "metadata": {},
   "outputs": [],
   "source": [
    "# detecting amount of objects in the no background image\n",
    "objects = sep.extract(data_sub, 1.5, err=bkg.globalrms)\n",
    "len(objects)"
   ]
  },
  {
   "cell_type": "code",
   "execution_count": null,
   "id": "7bc0d291",
   "metadata": {},
   "outputs": [],
   "source": [
    "# plotting background-subtracted image\n",
    "fig, ax = plt.subplots()\n",
    "m, s = np.mean(data_sub), np.std(data_sub)\n",
    "im = ax.imshow(data_sub, interpolation='nearest', cmap='gray',\n",
    "               vmin=m-s, vmax=m+s, origin='lower')\n",
    "\n",
    "# plotting an ellipse that shows each object\n",
    "for i in range(len(objects)):\n",
    "    e = Ellipse(xy=(objects['x'][i], objects['y'][i]),\n",
    "                width=6*objects['a'][i],\n",
    "                height=6*objects['b'][i],\n",
    "                angle=objects['theta'][i] * 180. / np.pi)\n",
    "    e.set_facecolor('none')\n",
    "    e.set_edgecolor('red')\n",
    "    ax.add_artist(e)\n",
    "# saving final version\n",
    "plt.savefig('objectsshown.png', bbox_inches = \"tight\", dpi = 600)"
   ]
  },
  {
   "cell_type": "code",
   "execution_count": null,
   "id": "5f3db47a",
   "metadata": {},
   "outputs": [],
   "source": [
    "# available fields\n",
    "objects.dtype.names"
   ]
  },
  {
   "cell_type": "code",
   "execution_count": null,
   "id": "9fe533dc",
   "metadata": {},
   "outputs": [],
   "source": [
    "flux, fluxerr, flag = sep.sum_circle(data_sub, objects['x'], objects['y'], 3.0, err=bkg.globalrms, gain=1.0)"
   ]
  },
  {
   "cell_type": "code",
   "execution_count": null,
   "id": "8e5d2ef1",
   "metadata": {},
   "outputs": [],
   "source": [
    "# showing the first 10 objects results:\n",
    "for i in range(10):\n",
    "    print(\"object {:d}: flux = {:f} +/- {:f}\".format(i, flux[i], fluxerr[i]))"
   ]
  },
  {
   "cell_type": "code",
   "execution_count": null,
   "id": "a2a75e7e",
   "metadata": {},
   "outputs": [],
   "source": [
    "# histogram the flux\n",
    "n = len(flux)\n",
    "width = 0.5\n",
    "histmin = np.floor(min(flux))\n",
    "histmax = np.ceil(max(flux)) + width\n",
    "\n",
    "bins = np.arange(histmin, histmax, width)\n",
    "plt.hist(flux, bins = bins, alpha = 0.5, edgecolor = \"black\")\n",
    "plt.ylabel(\"fluxes per source\")\n",
    "plt.xlabel(\"sources\")\n",
    "plt.show"
   ]
  },
  {
   "cell_type": "code",
   "execution_count": null,
   "id": "a9d5a241",
   "metadata": {
    "scrolled": true
   },
   "outputs": [],
   "source": [
    "mean = np.mean(flux)\n",
    "std = np.std(flux)\n",
    "bigoutlier = 0\n",
    "print(\"the mean is \" + str(mean))\n",
    "print(\"the median is \" + str(np.median(flux)))\n",
    "print(\"the standard deviation of the fluxes is \" + str(std))\n",
    "\n",
    "if (abs(min(flux) - mean) > abs(max(flux - mean))):\n",
    "    bigoutlier = min(flux)\n",
    "else :\n",
    "    bigoutlier = max(flux)\n",
    "\n",
    "print(\"the biggest outlier is \" + str(bigoutlier))\n",
    "\n",
    "distance = (bigoutlier - mean) / std\n",
    "print(\"the biggest outlier is \" + str(distance) + \" standard deviations away from the mean\")"
   ]
  },
  {
   "cell_type": "code",
   "execution_count": null,
   "id": "e2946845",
   "metadata": {},
   "outputs": [],
   "source": [
    "hdu2 = fits.open(\"hlsp_hudf12_hst_wfc3ir_udfmain_f125w_v1.0_drz.fits\")\n",
    "data2 = hdu2[0].data\n",
    "\n",
    "hdu3 = fits.open(\"hlsp_hudf12_hst_wfc3ir_udfmain_f160w_v1.0_drz.fits\")\n",
    "data3 = hdu3[0].data"
   ]
  },
  {
   "cell_type": "code",
   "execution_count": null,
   "id": "a2139ee2",
   "metadata": {},
   "outputs": [],
   "source": [
    "data_res, dmin, dmax = rescale_image(data)\n",
    "data2_res, d2min, d2max = rescale_image(data2)\n",
    "data3_res, d3min, d3max = rescale_image(data3)"
   ]
  },
  {
   "cell_type": "code",
   "execution_count": null,
   "id": "a8fab09a",
   "metadata": {},
   "outputs": [],
   "source": [
    "data_res[data_res<dmin] = dmin\n",
    "data_res[data_res>dmax] = dmax\n",
    "data2_res[data2_res<dmin] = d2min\n",
    "data2_res[data2_res>dmax] = d2max\n",
    "data3_res[data3_res<dmin] = d3min\n",
    "data3_res[data3_res>dmax] = d3max"
   ]
  },
  {
   "cell_type": "code",
   "execution_count": null,
   "id": "fb8d6adc",
   "metadata": {},
   "outputs": [],
   "source": [
    "rgb = np.zeros((data_res.shape[0], data2_res.shape[1], 3))\n",
    "rgb[:,:,0] = (data_res - dmin) / (dmax - dmin)\n",
    "rgb[:,:,1] = (data2_res - d2min) / (d2max - d2min)\n",
    "rgb[:,:,2] = (data3_res - d3min) / (d3max - d3min)"
   ]
  },
  {
   "cell_type": "code",
   "execution_count": null,
   "id": "b6bfc3d2",
   "metadata": {},
   "outputs": [],
   "source": [
    "f,ax = plt.subplots(1,1,figsize =(20,20))\n",
    "ax.axis('off')\n",
    "ax.imshow(rgb)\n",
    "plt.savefig('rgb.png', bbox_inches = \"tight\", dpi = 600)"
   ]
  },
  {
   "cell_type": "code",
   "execution_count": null,
   "id": "51e393ff",
   "metadata": {},
   "outputs": [],
   "source": []
  }
 ],
 "metadata": {
  "kernelspec": {
   "display_name": "Python 3",
   "language": "python",
   "name": "python3"
  },
  "language_info": {
   "codemirror_mode": {
    "name": "ipython",
    "version": 3
   },
   "file_extension": ".py",
   "mimetype": "text/x-python",
   "name": "python",
   "nbconvert_exporter": "python",
   "pygments_lexer": "ipython3",
   "version": "3.6.3"
  }
 },
 "nbformat": 4,
 "nbformat_minor": 5
}
