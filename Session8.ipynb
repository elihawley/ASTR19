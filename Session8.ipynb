{
 "cells": [
  {
   "cell_type": "code",
   "execution_count": null,
   "id": "f03f449e",
   "metadata": {},
   "outputs": [],
   "source": [
    "import numpy as np\n",
    "import matplotlib.pyplot as plt"
   ]
  },
  {
   "cell_type": "code",
   "execution_count": null,
   "id": "1ab6281d",
   "metadata": {},
   "outputs": [],
   "source": [
    "x = np.arange(0, 1, 0.01)"
   ]
  },
  {
   "cell_type": "code",
   "execution_count": null,
   "id": "9fb26860",
   "metadata": {},
   "outputs": [],
   "source": [
    "def sinf(x):\n",
    "    return np.sin(x)\n",
    "def cosf(x):\n",
    "    return np.cos(x)"
   ]
  },
  {
   "cell_type": "code",
   "execution_count": null,
   "id": "7831f964",
   "metadata": {
    "scrolled": true
   },
   "outputs": [],
   "source": [
    "f, axarr = plt.subplots(1,2)\n",
    "axarr[0].plot(x, cosf(x))\n",
    "axarr[0].set_title(r'$\\sin(x)$')\n",
    "axarr[1].plot(x, sinf(x))\n",
    "axarr[1].set_title(r'$\\cos(x)$')\n",
    "plt.savefig('graph.pdf', bbox_inches = \"tight\", dpi = 600)\n",
    "plt.show()"
   ]
  }
 ],
 "metadata": {
  "kernelspec": {
   "display_name": "Python 3",
   "language": "python",
   "name": "python3"
  },
  "language_info": {
   "codemirror_mode": {
    "name": "ipython",
    "version": 3
   },
   "file_extension": ".py",
   "mimetype": "text/x-python",
   "name": "python",
   "nbconvert_exporter": "python",
   "pygments_lexer": "ipython3",
   "version": "3.6.3"
  }
 },
 "nbformat": 4,
 "nbformat_minor": 5
}
